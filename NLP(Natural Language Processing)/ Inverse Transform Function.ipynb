{
 "cells": [
  {
   "cell_type": "markdown",
   "metadata": {},
   "source": [
    "##  Inverse Transform Function"
   ]
  },
  {
   "cell_type": "code",
   "execution_count": 1,
   "metadata": {},
   "outputs": [],
   "source": [
    "from sklearn.feature_extraction.text import CountVectorizer"
   ]
  },
  {
   "cell_type": "code",
   "execution_count": 2,
   "metadata": {},
   "outputs": [],
   "source": [
    "count_vectorizer = CountVectorizer()"
   ]
  },
  {
   "cell_type": "code",
   "execution_count": 13,
   "metadata": {},
   "outputs": [],
   "source": [
    "text1 = [\"NLTK is a leading platform for building Python programs to work with human language data. It provides easy-to-use interfaces to over 50 corpora and lexical resources such as WordNet, along with a suite of text processing libraries for classification, tokenization, stemming, tagging, parsing, and semantic reasoning, wrappers for industrial-strength NLP libraries, and an active discussion forum.\"]"
   ]
  },
  {
   "cell_type": "code",
   "execution_count": 14,
   "metadata": {},
   "outputs": [
    {
     "name": "stdout",
     "output_type": "stream",
     "text": [
      "['NLTK is a leading platform for building Python programs to work with human language data. It provides easy-to-use interfaces to over 50 corpora and lexical resources such as WordNet, along with a suite of text processing libraries for classification, tokenization, stemming, tagging, parsing, and semantic reasoning, wrappers for industrial-strength NLP libraries, and an active discussion forum.']\n"
     ]
    }
   ],
   "source": [
    "print(text1)"
   ]
  },
  {
   "cell_type": "code",
   "execution_count": 15,
   "metadata": {},
   "outputs": [],
   "source": [
    "transformed_vector = count_vectorizer.fit_transform(text1)"
   ]
  },
  {
   "cell_type": "code",
   "execution_count": 16,
   "metadata": {},
   "outputs": [
    {
     "data": {
      "text/plain": [
       "(1, 49)"
      ]
     },
     "execution_count": 16,
     "metadata": {},
     "output_type": "execute_result"
    }
   ],
   "source": [
    "transformed_vector.shape"
   ]
  },
  {
   "cell_type": "code",
   "execution_count": 17,
   "metadata": {},
   "outputs": [
    {
     "data": {
      "text/plain": [
       "{'nltk': 24,\n",
       " 'is': 17,\n",
       " 'leading': 20,\n",
       " 'platform': 28,\n",
       " 'for': 12,\n",
       " 'building': 6,\n",
       " 'python': 32,\n",
       " 'programs': 30,\n",
       " 'to': 42,\n",
       " 'work': 47,\n",
       " 'with': 45,\n",
       " 'human': 14,\n",
       " 'language': 19,\n",
       " 'data': 9,\n",
       " 'it': 18,\n",
       " 'provides': 31,\n",
       " 'easy': 11,\n",
       " 'use': 44,\n",
       " 'interfaces': 16,\n",
       " 'over': 26,\n",
       " '50': 0,\n",
       " 'corpora': 8,\n",
       " 'and': 4,\n",
       " 'lexical': 21,\n",
       " 'resources': 34,\n",
       " 'such': 38,\n",
       " 'as': 5,\n",
       " 'wordnet': 46,\n",
       " 'along': 2,\n",
       " 'suite': 39,\n",
       " 'of': 25,\n",
       " 'text': 41,\n",
       " 'processing': 29,\n",
       " 'libraries': 22,\n",
       " 'classification': 7,\n",
       " 'tokenization': 43,\n",
       " 'stemming': 36,\n",
       " 'tagging': 40,\n",
       " 'parsing': 27,\n",
       " 'semantic': 35,\n",
       " 'reasoning': 33,\n",
       " 'wrappers': 48,\n",
       " 'industrial': 15,\n",
       " 'strength': 37,\n",
       " 'nlp': 23,\n",
       " 'an': 3,\n",
       " 'active': 1,\n",
       " 'discussion': 10,\n",
       " 'forum': 13}"
      ]
     },
     "execution_count": 17,
     "metadata": {},
     "output_type": "execute_result"
    }
   ],
   "source": [
    "count_vectorizer.vocabulary_"
   ]
  },
  {
   "cell_type": "code",
   "execution_count": 19,
   "metadata": {},
   "outputs": [
    {
     "data": {
      "text/plain": [
       "[array(['nltk', 'is', 'leading', 'platform', 'for', 'building', 'python',\n",
       "        'programs', 'to', 'work', 'with', 'human', 'language', 'data',\n",
       "        'it', 'provides', 'easy', 'use', 'interfaces', 'over', '50',\n",
       "        'corpora', 'and', 'lexical', 'resources', 'such', 'as', 'wordnet',\n",
       "        'along', 'suite', 'of', 'text', 'processing', 'libraries',\n",
       "        'classification', 'tokenization', 'stemming', 'tagging', 'parsing',\n",
       "        'semantic', 'reasoning', 'wrappers', 'industrial', 'strength',\n",
       "        'nlp', 'an', 'active', 'discussion', 'forum'], dtype='<U14')]"
      ]
     },
     "execution_count": 19,
     "metadata": {},
     "output_type": "execute_result"
    }
   ],
   "source": [
    "count_vectorizer.inverse_transform(transformed_vector)"
   ]
  },
  {
   "cell_type": "code",
   "execution_count": null,
   "metadata": {},
   "outputs": [],
   "source": []
  }
 ],
 "metadata": {
  "kernelspec": {
   "display_name": "Python 3",
   "language": "python",
   "name": "python3"
  },
  "language_info": {
   "codemirror_mode": {
    "name": "ipython",
    "version": 3
   },
   "file_extension": ".py",
   "mimetype": "text/x-python",
   "name": "python",
   "nbconvert_exporter": "python",
   "pygments_lexer": "ipython3",
   "version": "3.6.5"
  }
 },
 "nbformat": 4,
 "nbformat_minor": 2
}
