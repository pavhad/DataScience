{
 "cells": [
  {
   "cell_type": "markdown",
   "metadata": {},
   "source": [
    "## NGram "
   ]
  },
  {
   "cell_type": "code",
   "execution_count": 1,
   "metadata": {},
   "outputs": [],
   "source": [
    "from sklearn.feature_extraction.text import CountVectorizer"
   ]
  },
  {
   "cell_type": "code",
   "execution_count": 2,
   "metadata": {},
   "outputs": [],
   "source": [
    "train_text = [\"NLTK is a leading platform for building Python programs to work with human language data. It provides easy-to-use interfaces to over 50 corpora and lexical resources such as WordNet, along with a suite of text processing libraries for classification, tokenization, stemming, tagging, parsing, and semantic reasoning, wrappers for industrial-strength NLP libraries, and an active discussion forum.\"]"
   ]
  },
  {
   "cell_type": "code",
   "execution_count": 3,
   "metadata": {},
   "outputs": [
    {
     "name": "stdout",
     "output_type": "stream",
     "text": [
      "['NLTK is a leading platform for building Python programs to work with human language data. It provides easy-to-use interfaces to over 50 corpora and lexical resources such as WordNet, along with a suite of text processing libraries for classification, tokenization, stemming, tagging, parsing, and semantic reasoning, wrappers for industrial-strength NLP libraries, and an active discussion forum.']\n"
     ]
    }
   ],
   "source": [
    "print(train_text)"
   ]
  },
  {
   "cell_type": "code",
   "execution_count": 10,
   "metadata": {},
   "outputs": [],
   "source": [
    "n_gram_vectorizer = CountVectorizer(ngram_range=(1,2))"
   ]
  },
  {
   "cell_type": "code",
   "execution_count": 11,
   "metadata": {},
   "outputs": [],
   "source": [
    "transForme_vectorizer = n_gram_vectorizer.fit_transform(train_text)"
   ]
  },
  {
   "cell_type": "code",
   "execution_count": 12,
   "metadata": {},
   "outputs": [
    {
     "data": {
      "text/plain": [
       "{'nltk': 52,\n",
       " 'is': 37,\n",
       " 'leading': 43,\n",
       " 'platform': 60,\n",
       " 'for': 26,\n",
       " 'building': 14,\n",
       " 'python': 68,\n",
       " 'programs': 64,\n",
       " 'to': 88,\n",
       " 'work': 101,\n",
       " 'with': 96,\n",
       " 'human': 31,\n",
       " 'language': 41,\n",
       " 'data': 20,\n",
       " 'it': 39,\n",
       " 'provides': 66,\n",
       " 'easy': 24,\n",
       " 'use': 94,\n",
       " 'interfaces': 35,\n",
       " 'over': 56,\n",
       " '50': 0,\n",
       " 'corpora': 18,\n",
       " 'and': 8,\n",
       " 'lexical': 45,\n",
       " 'resources': 72,\n",
       " 'such': 80,\n",
       " 'as': 12,\n",
       " 'wordnet': 99,\n",
       " 'along': 4,\n",
       " 'suite': 82,\n",
       " 'of': 54,\n",
       " 'text': 86,\n",
       " 'processing': 62,\n",
       " 'libraries': 47,\n",
       " 'classification': 16,\n",
       " 'tokenization': 92,\n",
       " 'stemming': 76,\n",
       " 'tagging': 84,\n",
       " 'parsing': 58,\n",
       " 'semantic': 74,\n",
       " 'reasoning': 70,\n",
       " 'wrappers': 103,\n",
       " 'industrial': 33,\n",
       " 'strength': 78,\n",
       " 'nlp': 50,\n",
       " 'an': 6,\n",
       " 'active': 2,\n",
       " 'discussion': 22,\n",
       " 'forum': 30,\n",
       " 'nltk is': 53,\n",
       " 'is leading': 38,\n",
       " 'leading platform': 44,\n",
       " 'platform for': 61,\n",
       " 'for building': 27,\n",
       " 'building python': 15,\n",
       " 'python programs': 69,\n",
       " 'programs to': 65,\n",
       " 'to work': 91,\n",
       " 'work with': 102,\n",
       " 'with human': 97,\n",
       " 'human language': 32,\n",
       " 'language data': 42,\n",
       " 'data it': 21,\n",
       " 'it provides': 40,\n",
       " 'provides easy': 67,\n",
       " 'easy to': 25,\n",
       " 'to use': 90,\n",
       " 'use interfaces': 95,\n",
       " 'interfaces to': 36,\n",
       " 'to over': 89,\n",
       " 'over 50': 57,\n",
       " '50 corpora': 1,\n",
       " 'corpora and': 19,\n",
       " 'and lexical': 10,\n",
       " 'lexical resources': 46,\n",
       " 'resources such': 73,\n",
       " 'such as': 81,\n",
       " 'as wordnet': 13,\n",
       " 'wordnet along': 100,\n",
       " 'along with': 5,\n",
       " 'with suite': 98,\n",
       " 'suite of': 83,\n",
       " 'of text': 55,\n",
       " 'text processing': 87,\n",
       " 'processing libraries': 63,\n",
       " 'libraries for': 49,\n",
       " 'for classification': 28,\n",
       " 'classification tokenization': 17,\n",
       " 'tokenization stemming': 93,\n",
       " 'stemming tagging': 77,\n",
       " 'tagging parsing': 85,\n",
       " 'parsing and': 59,\n",
       " 'and semantic': 11,\n",
       " 'semantic reasoning': 75,\n",
       " 'reasoning wrappers': 71,\n",
       " 'wrappers for': 104,\n",
       " 'for industrial': 29,\n",
       " 'industrial strength': 34,\n",
       " 'strength nlp': 79,\n",
       " 'nlp libraries': 51,\n",
       " 'libraries and': 48,\n",
       " 'and an': 9,\n",
       " 'an active': 7,\n",
       " 'active discussion': 3,\n",
       " 'discussion forum': 23}"
      ]
     },
     "execution_count": 12,
     "metadata": {},
     "output_type": "execute_result"
    }
   ],
   "source": [
    "n_gram_vectorizer.vocabulary_"
   ]
  },
  {
   "cell_type": "code",
   "execution_count": 13,
   "metadata": {},
   "outputs": [
    {
     "data": {
      "text/plain": [
       "array([[1, 1, 1, 1, 1, 1, 1, 1, 3, 1, 1, 1, 1, 1, 1, 1, 1, 1, 1, 1, 1, 1,\n",
       "        1, 1, 1, 1, 3, 1, 1, 1, 1, 1, 1, 1, 1, 1, 1, 1, 1, 1, 1, 1, 1, 1,\n",
       "        1, 1, 1, 2, 1, 1, 1, 1, 1, 1, 1, 1, 1, 1, 1, 1, 1, 1, 1, 1, 1, 1,\n",
       "        1, 1, 1, 1, 1, 1, 1, 1, 1, 1, 1, 1, 1, 1, 1, 1, 1, 1, 1, 1, 1, 1,\n",
       "        3, 1, 1, 1, 1, 1, 1, 1, 2, 1, 1, 1, 1, 1, 1, 1, 1]], dtype=int64)"
      ]
     },
     "execution_count": 13,
     "metadata": {},
     "output_type": "execute_result"
    }
   ],
   "source": [
    "transForme_vectorizer.toarray()"
   ]
  },
  {
   "cell_type": "code",
   "execution_count": 14,
   "metadata": {},
   "outputs": [
    {
     "data": {
      "text/plain": [
       "52"
      ]
     },
     "execution_count": 14,
     "metadata": {},
     "output_type": "execute_result"
    }
   ],
   "source": [
    "n_gram_vectorizer.vocabulary_.get(\"nltk\")"
   ]
  },
  {
   "cell_type": "code",
   "execution_count": 16,
   "metadata": {},
   "outputs": [],
   "source": [
    "word_count = transForme_vectorizer.toarray().sum(axis=0)"
   ]
  },
  {
   "cell_type": "code",
   "execution_count": 17,
   "metadata": {},
   "outputs": [
    {
     "data": {
      "text/plain": [
       "array([1, 1, 1, 1, 1, 1, 1, 1, 3, 1, 1, 1, 1, 1, 1, 1, 1, 1, 1, 1, 1, 1,\n",
       "       1, 1, 1, 1, 3, 1, 1, 1, 1, 1, 1, 1, 1, 1, 1, 1, 1, 1, 1, 1, 1, 1,\n",
       "       1, 1, 1, 2, 1, 1, 1, 1, 1, 1, 1, 1, 1, 1, 1, 1, 1, 1, 1, 1, 1, 1,\n",
       "       1, 1, 1, 1, 1, 1, 1, 1, 1, 1, 1, 1, 1, 1, 1, 1, 1, 1, 1, 1, 1, 1,\n",
       "       3, 1, 1, 1, 1, 1, 1, 1, 2, 1, 1, 1, 1, 1, 1, 1, 1], dtype=int64)"
      ]
     },
     "execution_count": 17,
     "metadata": {},
     "output_type": "execute_result"
    }
   ],
   "source": [
    "word_count"
   ]
  },
  {
   "cell_type": "code",
   "execution_count": null,
   "metadata": {},
   "outputs": [],
   "source": []
  }
 ],
 "metadata": {
  "kernelspec": {
   "display_name": "Python 3",
   "language": "python",
   "name": "python3"
  },
  "language_info": {
   "codemirror_mode": {
    "name": "ipython",
    "version": 3
   },
   "file_extension": ".py",
   "mimetype": "text/x-python",
   "name": "python",
   "nbconvert_exporter": "python",
   "pygments_lexer": "ipython3",
   "version": "3.6.5"
  }
 },
 "nbformat": 4,
 "nbformat_minor": 2
}
