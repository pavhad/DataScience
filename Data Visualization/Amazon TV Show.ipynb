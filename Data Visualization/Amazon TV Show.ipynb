{
 "cells": [
  {
   "cell_type": "code",
   "execution_count": 31,
   "metadata": {},
   "outputs": [],
   "source": [
    "import numpy as np\n",
    "import pandas as pd\n",
    "import  matplotlib.pyplot as plt\n",
    "import seaborn as sns\n"
   ]
  },
  {
   "cell_type": "code",
   "execution_count": 17,
   "metadata": {},
   "outputs": [
    {
     "data": {
      "text/html": [
       "<div>\n",
       "<style scoped>\n",
       "    .dataframe tbody tr th:only-of-type {\n",
       "        vertical-align: middle;\n",
       "    }\n",
       "\n",
       "    .dataframe tbody tr th {\n",
       "        vertical-align: top;\n",
       "    }\n",
       "\n",
       "    .dataframe thead th {\n",
       "        text-align: right;\n",
       "    }\n",
       "</style>\n",
       "<table border=\"1\" class=\"dataframe\">\n",
       "  <thead>\n",
       "    <tr style=\"text-align: right;\">\n",
       "      <th></th>\n",
       "      <th>id</th>\n",
       "      <th>title</th>\n",
       "      <th>type</th>\n",
       "      <th>description</th>\n",
       "      <th>release_year</th>\n",
       "      <th>age_certification</th>\n",
       "      <th>runtime</th>\n",
       "      <th>genres</th>\n",
       "      <th>production_countries</th>\n",
       "      <th>seasons</th>\n",
       "      <th>imdb_id</th>\n",
       "      <th>imdb_score</th>\n",
       "      <th>imdb_votes</th>\n",
       "      <th>tmdb_popularity</th>\n",
       "      <th>tmdb_score</th>\n",
       "    </tr>\n",
       "  </thead>\n",
       "  <tbody>\n",
       "    <tr>\n",
       "      <th>0</th>\n",
       "      <td>ts20945</td>\n",
       "      <td>The Three Stooges</td>\n",
       "      <td>SHOW</td>\n",
       "      <td>The Three Stooges were an American vaudeville ...</td>\n",
       "      <td>1934</td>\n",
       "      <td>TV-PG</td>\n",
       "      <td>19</td>\n",
       "      <td>['comedy', 'family', 'animation', 'action', 'f...</td>\n",
       "      <td>['US']</td>\n",
       "      <td>26.0</td>\n",
       "      <td>tt0850645</td>\n",
       "      <td>8.6</td>\n",
       "      <td>1092.0</td>\n",
       "      <td>15.424</td>\n",
       "      <td>7.6</td>\n",
       "    </tr>\n",
       "    <tr>\n",
       "      <th>1</th>\n",
       "      <td>tm19248</td>\n",
       "      <td>The General</td>\n",
       "      <td>MOVIE</td>\n",
       "      <td>During America’s Civil War, Union spies steal ...</td>\n",
       "      <td>1926</td>\n",
       "      <td>NaN</td>\n",
       "      <td>78</td>\n",
       "      <td>['action', 'drama', 'war', 'western', 'comedy'...</td>\n",
       "      <td>['US']</td>\n",
       "      <td>NaN</td>\n",
       "      <td>tt0017925</td>\n",
       "      <td>8.2</td>\n",
       "      <td>89766.0</td>\n",
       "      <td>8.647</td>\n",
       "      <td>8.0</td>\n",
       "    </tr>\n",
       "    <tr>\n",
       "      <th>2</th>\n",
       "      <td>tm82253</td>\n",
       "      <td>The Best Years of Our Lives</td>\n",
       "      <td>MOVIE</td>\n",
       "      <td>It's the hope that sustains the spirit of ever...</td>\n",
       "      <td>1946</td>\n",
       "      <td>NaN</td>\n",
       "      <td>171</td>\n",
       "      <td>['romance', 'war', 'drama']</td>\n",
       "      <td>['US']</td>\n",
       "      <td>NaN</td>\n",
       "      <td>tt0036868</td>\n",
       "      <td>8.1</td>\n",
       "      <td>63026.0</td>\n",
       "      <td>8.435</td>\n",
       "      <td>7.8</td>\n",
       "    </tr>\n",
       "    <tr>\n",
       "      <th>3</th>\n",
       "      <td>tm83884</td>\n",
       "      <td>His Girl Friday</td>\n",
       "      <td>MOVIE</td>\n",
       "      <td>Hildy, the journalist former wife of newspaper...</td>\n",
       "      <td>1940</td>\n",
       "      <td>NaN</td>\n",
       "      <td>92</td>\n",
       "      <td>['comedy', 'drama', 'romance']</td>\n",
       "      <td>['US']</td>\n",
       "      <td>NaN</td>\n",
       "      <td>tt0032599</td>\n",
       "      <td>7.8</td>\n",
       "      <td>57835.0</td>\n",
       "      <td>11.270</td>\n",
       "      <td>7.4</td>\n",
       "    </tr>\n",
       "    <tr>\n",
       "      <th>4</th>\n",
       "      <td>tm56584</td>\n",
       "      <td>In a Lonely Place</td>\n",
       "      <td>MOVIE</td>\n",
       "      <td>An aspiring actress begins to suspect that her...</td>\n",
       "      <td>1950</td>\n",
       "      <td>NaN</td>\n",
       "      <td>94</td>\n",
       "      <td>['thriller', 'drama', 'romance']</td>\n",
       "      <td>['US']</td>\n",
       "      <td>NaN</td>\n",
       "      <td>tt0042593</td>\n",
       "      <td>7.9</td>\n",
       "      <td>30924.0</td>\n",
       "      <td>8.273</td>\n",
       "      <td>7.6</td>\n",
       "    </tr>\n",
       "    <tr>\n",
       "      <th>...</th>\n",
       "      <td>...</td>\n",
       "      <td>...</td>\n",
       "      <td>...</td>\n",
       "      <td>...</td>\n",
       "      <td>...</td>\n",
       "      <td>...</td>\n",
       "      <td>...</td>\n",
       "      <td>...</td>\n",
       "      <td>...</td>\n",
       "      <td>...</td>\n",
       "      <td>...</td>\n",
       "      <td>...</td>\n",
       "      <td>...</td>\n",
       "      <td>...</td>\n",
       "      <td>...</td>\n",
       "    </tr>\n",
       "    <tr>\n",
       "      <th>9866</th>\n",
       "      <td>tm510327</td>\n",
       "      <td>Lily Is Here</td>\n",
       "      <td>MOVIE</td>\n",
       "      <td>Dallas and heroin have one thing in common: Du...</td>\n",
       "      <td>2021</td>\n",
       "      <td>NaN</td>\n",
       "      <td>93</td>\n",
       "      <td>['drama']</td>\n",
       "      <td>['US']</td>\n",
       "      <td>NaN</td>\n",
       "      <td>tt7672388</td>\n",
       "      <td>5.3</td>\n",
       "      <td>20.0</td>\n",
       "      <td>1.406</td>\n",
       "      <td>NaN</td>\n",
       "    </tr>\n",
       "    <tr>\n",
       "      <th>9867</th>\n",
       "      <td>tm1079144</td>\n",
       "      <td>Jay Nog: Something from Nothing</td>\n",
       "      <td>MOVIE</td>\n",
       "      <td>Something From Nothing takes you on a stand-up...</td>\n",
       "      <td>2021</td>\n",
       "      <td>NaN</td>\n",
       "      <td>55</td>\n",
       "      <td>['comedy']</td>\n",
       "      <td>['US']</td>\n",
       "      <td>NaN</td>\n",
       "      <td>tt15041600</td>\n",
       "      <td>NaN</td>\n",
       "      <td>NaN</td>\n",
       "      <td>0.600</td>\n",
       "      <td>NaN</td>\n",
       "    </tr>\n",
       "    <tr>\n",
       "      <th>9868</th>\n",
       "      <td>tm847725</td>\n",
       "      <td>Chasing</td>\n",
       "      <td>MOVIE</td>\n",
       "      <td>A cop from Chennai sets out to nab a dreaded d...</td>\n",
       "      <td>2021</td>\n",
       "      <td>NaN</td>\n",
       "      <td>116</td>\n",
       "      <td>['crime']</td>\n",
       "      <td>['IN']</td>\n",
       "      <td>NaN</td>\n",
       "      <td>NaN</td>\n",
       "      <td>NaN</td>\n",
       "      <td>NaN</td>\n",
       "      <td>1.960</td>\n",
       "      <td>NaN</td>\n",
       "    </tr>\n",
       "    <tr>\n",
       "      <th>9869</th>\n",
       "      <td>tm1054116</td>\n",
       "      <td>Baikunth</td>\n",
       "      <td>MOVIE</td>\n",
       "      <td>This story is about prevalent caste problem, e...</td>\n",
       "      <td>2021</td>\n",
       "      <td>NaN</td>\n",
       "      <td>72</td>\n",
       "      <td>['family', 'drama']</td>\n",
       "      <td>[]</td>\n",
       "      <td>NaN</td>\n",
       "      <td>tt14331982</td>\n",
       "      <td>8.4</td>\n",
       "      <td>49.0</td>\n",
       "      <td>0.645</td>\n",
       "      <td>NaN</td>\n",
       "    </tr>\n",
       "    <tr>\n",
       "      <th>9870</th>\n",
       "      <td>ts275838</td>\n",
       "      <td>Waking Up Eighty</td>\n",
       "      <td>SHOW</td>\n",
       "      <td>Kara Stewart, 16, is fed up with just about ev...</td>\n",
       "      <td>2021</td>\n",
       "      <td>NaN</td>\n",
       "      <td>10</td>\n",
       "      <td>['drama']</td>\n",
       "      <td>[]</td>\n",
       "      <td>1.0</td>\n",
       "      <td>tt13542552</td>\n",
       "      <td>NaN</td>\n",
       "      <td>NaN</td>\n",
       "      <td>NaN</td>\n",
       "      <td>NaN</td>\n",
       "    </tr>\n",
       "  </tbody>\n",
       "</table>\n",
       "<p>9871 rows × 15 columns</p>\n",
       "</div>"
      ],
      "text/plain": [
       "             id                            title   type  \\\n",
       "0       ts20945                The Three Stooges   SHOW   \n",
       "1       tm19248                      The General  MOVIE   \n",
       "2       tm82253      The Best Years of Our Lives  MOVIE   \n",
       "3       tm83884                  His Girl Friday  MOVIE   \n",
       "4       tm56584                In a Lonely Place  MOVIE   \n",
       "...         ...                              ...    ...   \n",
       "9866   tm510327                     Lily Is Here  MOVIE   \n",
       "9867  tm1079144  Jay Nog: Something from Nothing  MOVIE   \n",
       "9868   tm847725                          Chasing  MOVIE   \n",
       "9869  tm1054116                         Baikunth  MOVIE   \n",
       "9870   ts275838                 Waking Up Eighty   SHOW   \n",
       "\n",
       "                                            description  release_year  \\\n",
       "0     The Three Stooges were an American vaudeville ...          1934   \n",
       "1     During America’s Civil War, Union spies steal ...          1926   \n",
       "2     It's the hope that sustains the spirit of ever...          1946   \n",
       "3     Hildy, the journalist former wife of newspaper...          1940   \n",
       "4     An aspiring actress begins to suspect that her...          1950   \n",
       "...                                                 ...           ...   \n",
       "9866  Dallas and heroin have one thing in common: Du...          2021   \n",
       "9867  Something From Nothing takes you on a stand-up...          2021   \n",
       "9868  A cop from Chennai sets out to nab a dreaded d...          2021   \n",
       "9869  This story is about prevalent caste problem, e...          2021   \n",
       "9870  Kara Stewart, 16, is fed up with just about ev...          2021   \n",
       "\n",
       "     age_certification  runtime  \\\n",
       "0                TV-PG       19   \n",
       "1                  NaN       78   \n",
       "2                  NaN      171   \n",
       "3                  NaN       92   \n",
       "4                  NaN       94   \n",
       "...                ...      ...   \n",
       "9866               NaN       93   \n",
       "9867               NaN       55   \n",
       "9868               NaN      116   \n",
       "9869               NaN       72   \n",
       "9870               NaN       10   \n",
       "\n",
       "                                                 genres production_countries  \\\n",
       "0     ['comedy', 'family', 'animation', 'action', 'f...               ['US']   \n",
       "1     ['action', 'drama', 'war', 'western', 'comedy'...               ['US']   \n",
       "2                           ['romance', 'war', 'drama']               ['US']   \n",
       "3                        ['comedy', 'drama', 'romance']               ['US']   \n",
       "4                      ['thriller', 'drama', 'romance']               ['US']   \n",
       "...                                                 ...                  ...   \n",
       "9866                                          ['drama']               ['US']   \n",
       "9867                                         ['comedy']               ['US']   \n",
       "9868                                          ['crime']               ['IN']   \n",
       "9869                                ['family', 'drama']                   []   \n",
       "9870                                          ['drama']                   []   \n",
       "\n",
       "      seasons     imdb_id  imdb_score  imdb_votes  tmdb_popularity  tmdb_score  \n",
       "0        26.0   tt0850645         8.6      1092.0           15.424         7.6  \n",
       "1         NaN   tt0017925         8.2     89766.0            8.647         8.0  \n",
       "2         NaN   tt0036868         8.1     63026.0            8.435         7.8  \n",
       "3         NaN   tt0032599         7.8     57835.0           11.270         7.4  \n",
       "4         NaN   tt0042593         7.9     30924.0            8.273         7.6  \n",
       "...       ...         ...         ...         ...              ...         ...  \n",
       "9866      NaN   tt7672388         5.3        20.0            1.406         NaN  \n",
       "9867      NaN  tt15041600         NaN         NaN            0.600         NaN  \n",
       "9868      NaN         NaN         NaN         NaN            1.960         NaN  \n",
       "9869      NaN  tt14331982         8.4        49.0            0.645         NaN  \n",
       "9870      1.0  tt13542552         NaN         NaN              NaN         NaN  \n",
       "\n",
       "[9871 rows x 15 columns]"
      ]
     },
     "execution_count": 17,
     "metadata": {},
     "output_type": "execute_result"
    }
   ],
   "source": [
    "credit_df = pd.read_csv(\"DataSet/credits_amazon.csv\")\n",
    "credit_df\n",
    "title_df = pd.read_csv(\"DataSet/titles_amazon.csv\")\n",
    "title_df"
   ]
  },
  {
   "cell_type": "code",
   "execution_count": 6,
   "metadata": {},
   "outputs": [
    {
     "data": {
      "text/html": [
       "<div>\n",
       "<style scoped>\n",
       "    .dataframe tbody tr th:only-of-type {\n",
       "        vertical-align: middle;\n",
       "    }\n",
       "\n",
       "    .dataframe tbody tr th {\n",
       "        vertical-align: top;\n",
       "    }\n",
       "\n",
       "    .dataframe thead th {\n",
       "        text-align: right;\n",
       "    }\n",
       "</style>\n",
       "<table border=\"1\" class=\"dataframe\">\n",
       "  <thead>\n",
       "    <tr style=\"text-align: right;\">\n",
       "      <th></th>\n",
       "      <th>person_id</th>\n",
       "      <th>id</th>\n",
       "      <th>name</th>\n",
       "      <th>character</th>\n",
       "      <th>role</th>\n",
       "    </tr>\n",
       "  </thead>\n",
       "  <tbody>\n",
       "    <tr>\n",
       "      <th>18307</th>\n",
       "      <td>11349</td>\n",
       "      <td>tm107967</td>\n",
       "      <td>Burton Gilliam</td>\n",
       "      <td>Welder</td>\n",
       "      <td>ACTOR</td>\n",
       "    </tr>\n",
       "    <tr>\n",
       "      <th>36723</th>\n",
       "      <td>704483</td>\n",
       "      <td>tm157428</td>\n",
       "      <td>Frank L. Bare II</td>\n",
       "      <td>Roomer</td>\n",
       "      <td>ACTOR</td>\n",
       "    </tr>\n",
       "    <tr>\n",
       "      <th>15301</th>\n",
       "      <td>73157</td>\n",
       "      <td>tm85012</td>\n",
       "      <td>Alan Hale Jr.</td>\n",
       "      <td>Tiny</td>\n",
       "      <td>ACTOR</td>\n",
       "    </tr>\n",
       "    <tr>\n",
       "      <th>1317</th>\n",
       "      <td>49043</td>\n",
       "      <td>tm71517</td>\n",
       "      <td>Minor Watson</td>\n",
       "      <td>Mr. Griswald</td>\n",
       "      <td>ACTOR</td>\n",
       "    </tr>\n",
       "    <tr>\n",
       "      <th>1733</th>\n",
       "      <td>132035</td>\n",
       "      <td>tm77319</td>\n",
       "      <td>Clinton Rosemond</td>\n",
       "      <td>Black Man on Train (uncredited)</td>\n",
       "      <td>ACTOR</td>\n",
       "    </tr>\n",
       "  </tbody>\n",
       "</table>\n",
       "</div>"
      ],
      "text/plain": [
       "       person_id        id              name                        character  \\\n",
       "18307      11349  tm107967    Burton Gilliam                           Welder   \n",
       "36723     704483  tm157428  Frank L. Bare II                           Roomer   \n",
       "15301      73157   tm85012     Alan Hale Jr.                             Tiny   \n",
       "1317       49043   tm71517      Minor Watson                     Mr. Griswald   \n",
       "1733      132035   tm77319  Clinton Rosemond  Black Man on Train (uncredited)   \n",
       "\n",
       "        role  \n",
       "18307  ACTOR  \n",
       "36723  ACTOR  \n",
       "15301  ACTOR  \n",
       "1317   ACTOR  \n",
       "1733   ACTOR  "
      ]
     },
     "execution_count": 6,
     "metadata": {},
     "output_type": "execute_result"
    }
   ],
   "source": [
    "credit_df.sample(5)"
   ]
  },
  {
   "cell_type": "code",
   "execution_count": 7,
   "metadata": {},
   "outputs": [
    {
     "data": {
      "text/plain": [
       "(124235, 5)"
      ]
     },
     "execution_count": 7,
     "metadata": {},
     "output_type": "execute_result"
    }
   ],
   "source": [
    "credit_df.shape"
   ]
  },
  {
   "cell_type": "code",
   "execution_count": 8,
   "metadata": {},
   "outputs": [
    {
     "name": "stdout",
     "output_type": "stream",
     "text": [
      "<class 'pandas.core.frame.DataFrame'>\n",
      "RangeIndex: 124235 entries, 0 to 124234\n",
      "Data columns (total 5 columns):\n",
      " #   Column     Non-Null Count   Dtype \n",
      "---  ------     --------------   ----- \n",
      " 0   person_id  124235 non-null  int64 \n",
      " 1   id         124235 non-null  object\n",
      " 2   name       124235 non-null  object\n",
      " 3   character  107948 non-null  object\n",
      " 4   role       124235 non-null  object\n",
      "dtypes: int64(1), object(4)\n",
      "memory usage: 4.7+ MB\n"
     ]
    }
   ],
   "source": [
    "credit_df.info()"
   ]
  },
  {
   "cell_type": "code",
   "execution_count": 12,
   "metadata": {},
   "outputs": [
    {
     "data": {
      "text/plain": [
       "person_id        0\n",
       "id               0\n",
       "name             0\n",
       "character    16287\n",
       "role             0\n",
       "dtype: int64"
      ]
     },
     "execution_count": 12,
     "metadata": {},
     "output_type": "execute_result"
    }
   ],
   "source": [
    "credit_df.isnull().sum()"
   ]
  },
  {
   "cell_type": "code",
   "execution_count": 10,
   "metadata": {},
   "outputs": [
    {
     "data": {
      "text/plain": [
       "character    13.11\n",
       "role          0.00\n",
       "name          0.00\n",
       "id            0.00\n",
       "person_id     0.00\n",
       "dtype: float64"
      ]
     },
     "execution_count": 10,
     "metadata": {},
     "output_type": "execute_result"
    }
   ],
   "source": [
    "round(100*(credit_df.isnull().sum()/len(credit_df.index)),2).sort_values(ascending = False)"
   ]
  },
  {
   "cell_type": "code",
   "execution_count": 13,
   "metadata": {},
   "outputs": [],
   "source": [
    "# replace null values with 'No Data'\n",
    "credit_df['character'].replace(np.nan, 'No Data', inplace = True)"
   ]
  },
  {
   "cell_type": "code",
   "execution_count": 14,
   "metadata": {},
   "outputs": [
    {
     "data": {
      "text/plain": [
       "56"
      ]
     },
     "execution_count": 14,
     "metadata": {},
     "output_type": "execute_result"
    }
   ],
   "source": [
    "credit_df.duplicated().sum()"
   ]
  },
  {
   "cell_type": "code",
   "execution_count": 18,
   "metadata": {},
   "outputs": [
    {
     "data": {
      "text/html": [
       "<div>\n",
       "<style scoped>\n",
       "    .dataframe tbody tr th:only-of-type {\n",
       "        vertical-align: middle;\n",
       "    }\n",
       "\n",
       "    .dataframe tbody tr th {\n",
       "        vertical-align: top;\n",
       "    }\n",
       "\n",
       "    .dataframe thead th {\n",
       "        text-align: right;\n",
       "    }\n",
       "</style>\n",
       "<table border=\"1\" class=\"dataframe\">\n",
       "  <thead>\n",
       "    <tr style=\"text-align: right;\">\n",
       "      <th></th>\n",
       "      <th>id</th>\n",
       "      <th>title</th>\n",
       "      <th>type</th>\n",
       "      <th>description</th>\n",
       "      <th>release_year</th>\n",
       "      <th>age_certification</th>\n",
       "      <th>runtime</th>\n",
       "      <th>genres</th>\n",
       "      <th>production_countries</th>\n",
       "      <th>seasons</th>\n",
       "      <th>imdb_id</th>\n",
       "      <th>imdb_score</th>\n",
       "      <th>imdb_votes</th>\n",
       "      <th>tmdb_popularity</th>\n",
       "      <th>tmdb_score</th>\n",
       "    </tr>\n",
       "  </thead>\n",
       "  <tbody>\n",
       "    <tr>\n",
       "      <th>3095</th>\n",
       "      <td>tm143319</td>\n",
       "      <td>The Turn of the Screw</td>\n",
       "      <td>MOVIE</td>\n",
       "      <td>A young governess, Ann, is sent to a country h...</td>\n",
       "      <td>2009</td>\n",
       "      <td>PG-13</td>\n",
       "      <td>89</td>\n",
       "      <td>['drama', 'thriller', 'horror']</td>\n",
       "      <td>['GB']</td>\n",
       "      <td>NaN</td>\n",
       "      <td>tt4797606</td>\n",
       "      <td>5.5</td>\n",
       "      <td>1415.0</td>\n",
       "      <td>6.250</td>\n",
       "      <td>5.3</td>\n",
       "    </tr>\n",
       "    <tr>\n",
       "      <th>4060</th>\n",
       "      <td>tm675932</td>\n",
       "      <td>Grapes on a Vine</td>\n",
       "      <td>MOVIE</td>\n",
       "      <td>Kyle is the art director at the High Museum in...</td>\n",
       "      <td>2008</td>\n",
       "      <td>NaN</td>\n",
       "      <td>81</td>\n",
       "      <td>['drama']</td>\n",
       "      <td>['US']</td>\n",
       "      <td>NaN</td>\n",
       "      <td>tt1094297</td>\n",
       "      <td>6.8</td>\n",
       "      <td>69.0</td>\n",
       "      <td>0.600</td>\n",
       "      <td>NaN</td>\n",
       "    </tr>\n",
       "    <tr>\n",
       "      <th>3806</th>\n",
       "      <td>tm859688</td>\n",
       "      <td>Torn</td>\n",
       "      <td>MOVIE</td>\n",
       "      <td>A man finds himself torn between pursuing a re...</td>\n",
       "      <td>2010</td>\n",
       "      <td>NaN</td>\n",
       "      <td>90</td>\n",
       "      <td>['drama']</td>\n",
       "      <td>['XX']</td>\n",
       "      <td>NaN</td>\n",
       "      <td>NaN</td>\n",
       "      <td>NaN</td>\n",
       "      <td>NaN</td>\n",
       "      <td>0.629</td>\n",
       "      <td>NaN</td>\n",
       "    </tr>\n",
       "    <tr>\n",
       "      <th>8247</th>\n",
       "      <td>tm916194</td>\n",
       "      <td>French Biriyani</td>\n",
       "      <td>MOVIE</td>\n",
       "      <td>A French expatriate and an auto driver go on a...</td>\n",
       "      <td>2020</td>\n",
       "      <td>NaN</td>\n",
       "      <td>116</td>\n",
       "      <td>['comedy']</td>\n",
       "      <td>['IN']</td>\n",
       "      <td>NaN</td>\n",
       "      <td>tt12344410</td>\n",
       "      <td>5.8</td>\n",
       "      <td>1002.0</td>\n",
       "      <td>1.360</td>\n",
       "      <td>10.0</td>\n",
       "    </tr>\n",
       "    <tr>\n",
       "      <th>6443</th>\n",
       "      <td>ts78296</td>\n",
       "      <td>Breathe</td>\n",
       "      <td>SHOW</td>\n",
       "      <td>Kabir, a brilliant but non-conventional office...</td>\n",
       "      <td>2018</td>\n",
       "      <td>TV-MA</td>\n",
       "      <td>39</td>\n",
       "      <td>['crime', 'drama', 'thriller']</td>\n",
       "      <td>['IN']</td>\n",
       "      <td>1.0</td>\n",
       "      <td>tt6466208</td>\n",
       "      <td>8.4</td>\n",
       "      <td>19289.0</td>\n",
       "      <td>6.445</td>\n",
       "      <td>7.8</td>\n",
       "    </tr>\n",
       "  </tbody>\n",
       "</table>\n",
       "</div>"
      ],
      "text/plain": [
       "            id                  title   type  \\\n",
       "3095  tm143319  The Turn of the Screw  MOVIE   \n",
       "4060  tm675932       Grapes on a Vine  MOVIE   \n",
       "3806  tm859688                   Torn  MOVIE   \n",
       "8247  tm916194        French Biriyani  MOVIE   \n",
       "6443   ts78296                Breathe   SHOW   \n",
       "\n",
       "                                            description  release_year  \\\n",
       "3095  A young governess, Ann, is sent to a country h...          2009   \n",
       "4060  Kyle is the art director at the High Museum in...          2008   \n",
       "3806  A man finds himself torn between pursuing a re...          2010   \n",
       "8247  A French expatriate and an auto driver go on a...          2020   \n",
       "6443  Kabir, a brilliant but non-conventional office...          2018   \n",
       "\n",
       "     age_certification  runtime                           genres  \\\n",
       "3095             PG-13       89  ['drama', 'thriller', 'horror']   \n",
       "4060               NaN       81                        ['drama']   \n",
       "3806               NaN       90                        ['drama']   \n",
       "8247               NaN      116                       ['comedy']   \n",
       "6443             TV-MA       39   ['crime', 'drama', 'thriller']   \n",
       "\n",
       "     production_countries  seasons     imdb_id  imdb_score  imdb_votes  \\\n",
       "3095               ['GB']      NaN   tt4797606         5.5      1415.0   \n",
       "4060               ['US']      NaN   tt1094297         6.8        69.0   \n",
       "3806               ['XX']      NaN         NaN         NaN         NaN   \n",
       "8247               ['IN']      NaN  tt12344410         5.8      1002.0   \n",
       "6443               ['IN']      1.0   tt6466208         8.4     19289.0   \n",
       "\n",
       "      tmdb_popularity  tmdb_score  \n",
       "3095            6.250         5.3  \n",
       "4060            0.600         NaN  \n",
       "3806            0.629         NaN  \n",
       "8247            1.360        10.0  \n",
       "6443            6.445         7.8  "
      ]
     },
     "execution_count": 18,
     "metadata": {},
     "output_type": "execute_result"
    }
   ],
   "source": [
    "title_df.sample(5) "
   ]
  },
  {
   "cell_type": "code",
   "execution_count": null,
   "metadata": {},
   "outputs": [],
   "source": [
    "title_df = title_df.drop(columns = ['seasons', 'age_certification'])"
   ]
  },
  {
   "cell_type": "code",
   "execution_count": 20,
   "metadata": {},
   "outputs": [],
   "source": [
    "title_df['tmdb_score'] = title_df['tmdb_score'].fillna(title_df['tmdb_score'].mode()[0])\n",
    "title_df['imdb_votes'] = title_df['imdb_votes'].fillna(title_df['imdb_votes'].mode()[0])\n",
    "title_df['imdb_score'] = title_df['imdb_score'].fillna(title_df['imdb_score'].mode()[0])\n",
    "title_df['tmdb_popularity'] = title_df['tmdb_popularity'].fillna(title_df['tmdb_popularity'].mode()[0])\n",
    "title_df['imdb_id'].replace(np.nan, 'No Data',inplace  = True)\n",
    "title_df['description'].replace(np.nan, 'No Data',inplace  = True)"
   ]
  },
  {
   "cell_type": "code",
   "execution_count": 28,
   "metadata": {},
   "outputs": [
    {
     "name": "stderr",
     "output_type": "stream",
     "text": [
      "C:\\Users\\panka\\Anaconda3\\lib\\site-packages\\ipykernel_launcher.py:4: SettingWithCopyWarning: \n",
      "A value is trying to be set on a copy of a slice from a DataFrame\n",
      "\n",
      "See the caveats in the documentation: https://pandas.pydata.org/pandas-docs/stable/user_guide/indexing.html#returning-a-view-versus-a-copy\n",
      "  after removing the cwd from sys.path.\n"
     ]
    }
   ],
   "source": [
    "title_df['production_countries'] = title_df['production_countries'].str[2:4]\n",
    "for i in range(len(title_df['production_countries'])):\n",
    "    if title_df['production_countries'][i] == '':\n",
    "        title_df['production_countries'][i] = 'Unknown'"
   ]
  },
  {
   "cell_type": "code",
   "execution_count": 29,
   "metadata": {},
   "outputs": [
    {
     "data": {
      "text/html": [
       "<div>\n",
       "<style scoped>\n",
       "    .dataframe tbody tr th:only-of-type {\n",
       "        vertical-align: middle;\n",
       "    }\n",
       "\n",
       "    .dataframe tbody tr th {\n",
       "        vertical-align: top;\n",
       "    }\n",
       "\n",
       "    .dataframe thead th {\n",
       "        text-align: right;\n",
       "    }\n",
       "</style>\n",
       "<table border=\"1\" class=\"dataframe\">\n",
       "  <thead>\n",
       "    <tr style=\"text-align: right;\">\n",
       "      <th></th>\n",
       "      <th>person_id</th>\n",
       "      <th>id</th>\n",
       "      <th>name</th>\n",
       "      <th>character</th>\n",
       "      <th>role</th>\n",
       "    </tr>\n",
       "  </thead>\n",
       "  <tbody>\n",
       "    <tr>\n",
       "      <th>45902</th>\n",
       "      <td>1213657</td>\n",
       "      <td>tm191600</td>\n",
       "      <td>Isai Rivera Blas</td>\n",
       "      <td>Humberto Lopez</td>\n",
       "      <td>ACTOR</td>\n",
       "    </tr>\n",
       "    <tr>\n",
       "      <th>26693</th>\n",
       "      <td>105228</td>\n",
       "      <td>tm96267</td>\n",
       "      <td>Mac Mohan</td>\n",
       "      <td>Jagmohan</td>\n",
       "      <td>ACTOR</td>\n",
       "    </tr>\n",
       "    <tr>\n",
       "      <th>69137</th>\n",
       "      <td>327773</td>\n",
       "      <td>tm176274</td>\n",
       "      <td>Jim Roof</td>\n",
       "      <td>Chester</td>\n",
       "      <td>ACTOR</td>\n",
       "    </tr>\n",
       "    <tr>\n",
       "      <th>109289</th>\n",
       "      <td>614165</td>\n",
       "      <td>tm941298</td>\n",
       "      <td>Michael Croner</td>\n",
       "      <td>Rob Chambers</td>\n",
       "      <td>ACTOR</td>\n",
       "    </tr>\n",
       "    <tr>\n",
       "      <th>58969</th>\n",
       "      <td>208882</td>\n",
       "      <td>tm118569</td>\n",
       "      <td>Alana Austin</td>\n",
       "      <td>Wood Faerie</td>\n",
       "      <td>ACTOR</td>\n",
       "    </tr>\n",
       "  </tbody>\n",
       "</table>\n",
       "</div>"
      ],
      "text/plain": [
       "        person_id        id              name       character   role\n",
       "45902     1213657  tm191600  Isai Rivera Blas  Humberto Lopez  ACTOR\n",
       "26693      105228   tm96267         Mac Mohan        Jagmohan  ACTOR\n",
       "69137      327773  tm176274          Jim Roof         Chester  ACTOR\n",
       "109289     614165  tm941298    Michael Croner    Rob Chambers  ACTOR\n",
       "58969      208882  tm118569      Alana Austin     Wood Faerie  ACTOR"
      ]
     },
     "execution_count": 29,
     "metadata": {},
     "output_type": "execute_result"
    }
   ],
   "source": [
    "credit_df.sample(5)"
   ]
  },
  {
   "cell_type": "code",
   "execution_count": 32,
   "metadata": {},
   "outputs": [
    {
     "data": {
      "text/plain": [
       "<matplotlib.axes._subplots.AxesSubplot at 0x2664c15d748>"
      ]
     },
     "execution_count": 32,
     "metadata": {},
     "output_type": "execute_result"
    },
    {
     "data": {
      "image/png": "[encoded data removed]",
      "text/plain": [
       "<Figure size 720x576 with 1 Axes>"
      ]
     },
     "metadata": {},
     "output_type": "display_data"
    }
   ],
   "source": [
    "plt.figure(figsize = (10,8))\n",
    "plt.title('Highest release year')\n",
    "sns.countplot(x='release_year', data = title_df,order = title_df['release_year'].value_counts().index[:15], facecolor=(0,0,0,0),linewidth =5, edgecolor = sns.color_palette(\"husl\"))"
   ]
  },
  {
   "cell_type": "code",
   "execution_count": 33,
   "metadata": {},
   "outputs": [
    {
     "data": {
      "text/plain": [
       "<matplotlib.axes._subplots.AxesSubplot at 0x2664c3f25c0>"
      ]
     },
     "execution_count": 33,
     "metadata": {},
     "output_type": "execute_result"
    },
    {
     "data": {
      "image/png": "[encoded data removed]",
      "text/plain": [
       "<Figure size 720x576 with 1 Axes>"
      ]
     },
     "metadata": {},
     "output_type": "display_data"
    }
   ],
   "source": [
    "plt.figure(figsize = (10,8))\n",
    "plt.title('Movie vs Show')\n",
    "sns.countplot(x='type', data = title_df,order = title_df['type'].value_counts().index[:15] ,linewidth =5)"
   ]
  },
  {
   "cell_type": "code",
   "execution_count": 34,
   "metadata": {},
   "outputs": [
    {
     "data": {
      "text/plain": [
       "<matplotlib.axes._subplots.AxesSubplot at 0x2664c1dfd68>"
      ]
     },
     "execution_count": 34,
     "metadata": {},
     "output_type": "execute_result"
    },
    {
     "data": {
      "image/png": "[encoded data removed]",
      "text/plain": [
       "<Figure size 720x576 with 1 Axes>"
      ]
     },
     "metadata": {},
     "output_type": "display_data"
    }
   ],
   "source": [
    "plt.figure(figsize = (10,8))\n",
    "plt.title('Top Production Countries')\n",
    "sns.countplot(x='production_countries', data = title_df,order = title_df['production_countries'].value_counts().index[:10] ,linewidth =5)"
   ]
  },
  {
   "cell_type": "code",
   "execution_count": 35,
   "metadata": {},
   "outputs": [
    {
     "data": {
      "image/png": "[encoded data removed]",
      "text/plain": [
       "<Figure size 864x432 with 1 Axes>"
      ]
     },
     "metadata": {},
     "output_type": "display_data"
    }
   ],
   "source": [
    "fig = plt.figure(figsize=(12,6))\n",
    "sns.countplot(data = title_df,y = 'production_countries', order = title_df[\"production_countries\"].value_counts().index[0:10],hue = 'type',palette = 'magma_r')\n",
    "plt.title(\"Top countries having most content\")\n",
    "plt.show()\n",
    "        "
   ]
  },
  {
   "cell_type": "code",
   "execution_count": null,
   "metadata": {},
   "outputs": [],
   "source": []
  }
 ],
 "metadata": {
  "kernelspec": {
   "display_name": "Python 3",
   "language": "python",
   "name": "python3"
  },
  "language_info": {
   "codemirror_mode": {
    "name": "ipython",
    "version": 3
   },
   "file_extension": ".py",
   "mimetype": "text/x-python",
   "name": "python",
   "nbconvert_exporter": "python",
   "pygments_lexer": "ipython3",
   "version": "3.6.5"
  }
 },
 "nbformat": 4,
 "nbformat_minor": 2
}
